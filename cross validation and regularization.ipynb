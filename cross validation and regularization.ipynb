{
 "cells": [
  {
   "cell_type": "markdown",
   "metadata": {},
   "source": [
    "importing all the package we need for the computation:"
   ]
  },
  {
   "cell_type": "code",
   "execution_count": 6,
   "metadata": {},
   "outputs": [],
   "source": [
    "import matplotlib.pyplot as plt\n",
    "import random\n",
    "import numpy as np\n",
    "import pandas as pd\n",
    "import seaborn as sns\n",
    "import ipywidgets as widgets\n",
    "from sklearn.linear_model import Ridge\n",
    "from sklearn.linear_model import Lasso\n",
    "from ipywidgets import interact, interactive, fixed, interact_manual\n",
    "from sklearn.preprocessing import PolynomialFeatures\n",
    "from sklearn.linear_model import LinearRegression\n",
    "from sklearn.model_selection import train_test_split\n",
    "from scipy.optimize import curve_fit\n",
    "from sklearn.metrics import mean_squared_error\n",
    "import warnings\n",
    "warnings.filterwarnings('ignore')\n",
    "\n",
    "%matplotlib inline\n",
    "\n",
    "sns.set()\n",
    "sns.set_context('talk')\n",
    "np.set_printoptions(threshold=20, precision=2, suppress=True)\n",
    "pd.options.display.max_rows = 20\n",
    "pd.options.display.max_columns = 20\n",
    "pd.set_option('precision', 2)"
   ]
  },
  {
   "cell_type": "markdown",
   "metadata": {},
   "source": [
    "Data set 1: Bike sharing data set (imported form Irvine machine learning resource)"
   ]
  },
  {
   "cell_type": "markdown",
   "metadata": {},
   "source": [
    "read the data file"
   ]
  },
  {
   "cell_type": "code",
   "execution_count": 7,
   "metadata": {},
   "outputs": [
    {
     "data": {
      "text/html": [
       "<div>\n",
       "<style scoped>\n",
       "    .dataframe tbody tr th:only-of-type {\n",
       "        vertical-align: middle;\n",
       "    }\n",
       "\n",
       "    .dataframe tbody tr th {\n",
       "        vertical-align: top;\n",
       "    }\n",
       "\n",
       "    .dataframe thead th {\n",
       "        text-align: right;\n",
       "    }\n",
       "</style>\n",
       "<table border=\"1\" class=\"dataframe\">\n",
       "  <thead>\n",
       "    <tr style=\"text-align: right;\">\n",
       "      <th></th>\n",
       "      <th>instant</th>\n",
       "      <th>dteday</th>\n",
       "      <th>season</th>\n",
       "      <th>yr</th>\n",
       "      <th>mnth</th>\n",
       "      <th>holiday</th>\n",
       "      <th>weekday</th>\n",
       "      <th>workingday</th>\n",
       "      <th>weathersit</th>\n",
       "      <th>temp</th>\n",
       "      <th>atemp</th>\n",
       "      <th>hum</th>\n",
       "      <th>windspeed</th>\n",
       "      <th>casual</th>\n",
       "      <th>registered</th>\n",
       "      <th>cnt</th>\n",
       "    </tr>\n",
       "  </thead>\n",
       "  <tbody>\n",
       "    <tr>\n",
       "      <th>0</th>\n",
       "      <td>1</td>\n",
       "      <td>2011-01-01</td>\n",
       "      <td>1</td>\n",
       "      <td>0</td>\n",
       "      <td>1</td>\n",
       "      <td>0</td>\n",
       "      <td>6</td>\n",
       "      <td>0</td>\n",
       "      <td>2</td>\n",
       "      <td>0.34</td>\n",
       "      <td>0.36</td>\n",
       "      <td>0.81</td>\n",
       "      <td>0.16</td>\n",
       "      <td>331</td>\n",
       "      <td>654</td>\n",
       "      <td>985</td>\n",
       "    </tr>\n",
       "    <tr>\n",
       "      <th>1</th>\n",
       "      <td>2</td>\n",
       "      <td>2011-01-02</td>\n",
       "      <td>1</td>\n",
       "      <td>0</td>\n",
       "      <td>1</td>\n",
       "      <td>0</td>\n",
       "      <td>0</td>\n",
       "      <td>0</td>\n",
       "      <td>2</td>\n",
       "      <td>0.36</td>\n",
       "      <td>0.35</td>\n",
       "      <td>0.70</td>\n",
       "      <td>0.25</td>\n",
       "      <td>131</td>\n",
       "      <td>670</td>\n",
       "      <td>801</td>\n",
       "    </tr>\n",
       "    <tr>\n",
       "      <th>2</th>\n",
       "      <td>3</td>\n",
       "      <td>2011-01-03</td>\n",
       "      <td>1</td>\n",
       "      <td>0</td>\n",
       "      <td>1</td>\n",
       "      <td>0</td>\n",
       "      <td>1</td>\n",
       "      <td>1</td>\n",
       "      <td>1</td>\n",
       "      <td>0.20</td>\n",
       "      <td>0.19</td>\n",
       "      <td>0.44</td>\n",
       "      <td>0.25</td>\n",
       "      <td>120</td>\n",
       "      <td>1229</td>\n",
       "      <td>1349</td>\n",
       "    </tr>\n",
       "    <tr>\n",
       "      <th>3</th>\n",
       "      <td>4</td>\n",
       "      <td>2011-01-04</td>\n",
       "      <td>1</td>\n",
       "      <td>0</td>\n",
       "      <td>1</td>\n",
       "      <td>0</td>\n",
       "      <td>2</td>\n",
       "      <td>1</td>\n",
       "      <td>1</td>\n",
       "      <td>0.20</td>\n",
       "      <td>0.21</td>\n",
       "      <td>0.59</td>\n",
       "      <td>0.16</td>\n",
       "      <td>108</td>\n",
       "      <td>1454</td>\n",
       "      <td>1562</td>\n",
       "    </tr>\n",
       "    <tr>\n",
       "      <th>4</th>\n",
       "      <td>5</td>\n",
       "      <td>2011-01-05</td>\n",
       "      <td>1</td>\n",
       "      <td>0</td>\n",
       "      <td>1</td>\n",
       "      <td>0</td>\n",
       "      <td>3</td>\n",
       "      <td>1</td>\n",
       "      <td>1</td>\n",
       "      <td>0.23</td>\n",
       "      <td>0.23</td>\n",
       "      <td>0.44</td>\n",
       "      <td>0.19</td>\n",
       "      <td>82</td>\n",
       "      <td>1518</td>\n",
       "      <td>1600</td>\n",
       "    </tr>\n",
       "    <tr>\n",
       "      <th>5</th>\n",
       "      <td>6</td>\n",
       "      <td>2011-01-06</td>\n",
       "      <td>1</td>\n",
       "      <td>0</td>\n",
       "      <td>1</td>\n",
       "      <td>0</td>\n",
       "      <td>4</td>\n",
       "      <td>1</td>\n",
       "      <td>1</td>\n",
       "      <td>0.20</td>\n",
       "      <td>0.23</td>\n",
       "      <td>0.52</td>\n",
       "      <td>0.09</td>\n",
       "      <td>88</td>\n",
       "      <td>1518</td>\n",
       "      <td>1606</td>\n",
       "    </tr>\n",
       "    <tr>\n",
       "      <th>6</th>\n",
       "      <td>7</td>\n",
       "      <td>2011-01-07</td>\n",
       "      <td>1</td>\n",
       "      <td>0</td>\n",
       "      <td>1</td>\n",
       "      <td>0</td>\n",
       "      <td>5</td>\n",
       "      <td>1</td>\n",
       "      <td>2</td>\n",
       "      <td>0.20</td>\n",
       "      <td>0.21</td>\n",
       "      <td>0.50</td>\n",
       "      <td>0.17</td>\n",
       "      <td>148</td>\n",
       "      <td>1362</td>\n",
       "      <td>1510</td>\n",
       "    </tr>\n",
       "    <tr>\n",
       "      <th>7</th>\n",
       "      <td>8</td>\n",
       "      <td>2011-01-08</td>\n",
       "      <td>1</td>\n",
       "      <td>0</td>\n",
       "      <td>1</td>\n",
       "      <td>0</td>\n",
       "      <td>6</td>\n",
       "      <td>0</td>\n",
       "      <td>2</td>\n",
       "      <td>0.17</td>\n",
       "      <td>0.16</td>\n",
       "      <td>0.54</td>\n",
       "      <td>0.27</td>\n",
       "      <td>68</td>\n",
       "      <td>891</td>\n",
       "      <td>959</td>\n",
       "    </tr>\n",
       "    <tr>\n",
       "      <th>8</th>\n",
       "      <td>9</td>\n",
       "      <td>2011-01-09</td>\n",
       "      <td>1</td>\n",
       "      <td>0</td>\n",
       "      <td>1</td>\n",
       "      <td>0</td>\n",
       "      <td>0</td>\n",
       "      <td>0</td>\n",
       "      <td>1</td>\n",
       "      <td>0.14</td>\n",
       "      <td>0.12</td>\n",
       "      <td>0.43</td>\n",
       "      <td>0.36</td>\n",
       "      <td>54</td>\n",
       "      <td>768</td>\n",
       "      <td>822</td>\n",
       "    </tr>\n",
       "    <tr>\n",
       "      <th>9</th>\n",
       "      <td>10</td>\n",
       "      <td>2011-01-10</td>\n",
       "      <td>1</td>\n",
       "      <td>0</td>\n",
       "      <td>1</td>\n",
       "      <td>0</td>\n",
       "      <td>1</td>\n",
       "      <td>1</td>\n",
       "      <td>1</td>\n",
       "      <td>0.15</td>\n",
       "      <td>0.15</td>\n",
       "      <td>0.48</td>\n",
       "      <td>0.22</td>\n",
       "      <td>41</td>\n",
       "      <td>1280</td>\n",
       "      <td>1321</td>\n",
       "    </tr>\n",
       "    <tr>\n",
       "      <th>...</th>\n",
       "      <td>...</td>\n",
       "      <td>...</td>\n",
       "      <td>...</td>\n",
       "      <td>...</td>\n",
       "      <td>...</td>\n",
       "      <td>...</td>\n",
       "      <td>...</td>\n",
       "      <td>...</td>\n",
       "      <td>...</td>\n",
       "      <td>...</td>\n",
       "      <td>...</td>\n",
       "      <td>...</td>\n",
       "      <td>...</td>\n",
       "      <td>...</td>\n",
       "      <td>...</td>\n",
       "      <td>...</td>\n",
       "    </tr>\n",
       "    <tr>\n",
       "      <th>721</th>\n",
       "      <td>722</td>\n",
       "      <td>2012-12-22</td>\n",
       "      <td>1</td>\n",
       "      <td>1</td>\n",
       "      <td>12</td>\n",
       "      <td>0</td>\n",
       "      <td>6</td>\n",
       "      <td>0</td>\n",
       "      <td>1</td>\n",
       "      <td>0.27</td>\n",
       "      <td>0.24</td>\n",
       "      <td>0.44</td>\n",
       "      <td>0.41</td>\n",
       "      <td>205</td>\n",
       "      <td>1544</td>\n",
       "      <td>1749</td>\n",
       "    </tr>\n",
       "    <tr>\n",
       "      <th>722</th>\n",
       "      <td>723</td>\n",
       "      <td>2012-12-23</td>\n",
       "      <td>1</td>\n",
       "      <td>1</td>\n",
       "      <td>12</td>\n",
       "      <td>0</td>\n",
       "      <td>0</td>\n",
       "      <td>0</td>\n",
       "      <td>1</td>\n",
       "      <td>0.25</td>\n",
       "      <td>0.26</td>\n",
       "      <td>0.52</td>\n",
       "      <td>0.13</td>\n",
       "      <td>408</td>\n",
       "      <td>1379</td>\n",
       "      <td>1787</td>\n",
       "    </tr>\n",
       "    <tr>\n",
       "      <th>723</th>\n",
       "      <td>724</td>\n",
       "      <td>2012-12-24</td>\n",
       "      <td>1</td>\n",
       "      <td>1</td>\n",
       "      <td>12</td>\n",
       "      <td>0</td>\n",
       "      <td>1</td>\n",
       "      <td>1</td>\n",
       "      <td>2</td>\n",
       "      <td>0.23</td>\n",
       "      <td>0.26</td>\n",
       "      <td>0.79</td>\n",
       "      <td>0.08</td>\n",
       "      <td>174</td>\n",
       "      <td>746</td>\n",
       "      <td>920</td>\n",
       "    </tr>\n",
       "    <tr>\n",
       "      <th>724</th>\n",
       "      <td>725</td>\n",
       "      <td>2012-12-25</td>\n",
       "      <td>1</td>\n",
       "      <td>1</td>\n",
       "      <td>12</td>\n",
       "      <td>1</td>\n",
       "      <td>2</td>\n",
       "      <td>0</td>\n",
       "      <td>2</td>\n",
       "      <td>0.29</td>\n",
       "      <td>0.29</td>\n",
       "      <td>0.73</td>\n",
       "      <td>0.17</td>\n",
       "      <td>440</td>\n",
       "      <td>573</td>\n",
       "      <td>1013</td>\n",
       "    </tr>\n",
       "    <tr>\n",
       "      <th>725</th>\n",
       "      <td>726</td>\n",
       "      <td>2012-12-26</td>\n",
       "      <td>1</td>\n",
       "      <td>1</td>\n",
       "      <td>12</td>\n",
       "      <td>0</td>\n",
       "      <td>3</td>\n",
       "      <td>1</td>\n",
       "      <td>3</td>\n",
       "      <td>0.24</td>\n",
       "      <td>0.22</td>\n",
       "      <td>0.82</td>\n",
       "      <td>0.32</td>\n",
       "      <td>9</td>\n",
       "      <td>432</td>\n",
       "      <td>441</td>\n",
       "    </tr>\n",
       "    <tr>\n",
       "      <th>726</th>\n",
       "      <td>727</td>\n",
       "      <td>2012-12-27</td>\n",
       "      <td>1</td>\n",
       "      <td>1</td>\n",
       "      <td>12</td>\n",
       "      <td>0</td>\n",
       "      <td>4</td>\n",
       "      <td>1</td>\n",
       "      <td>2</td>\n",
       "      <td>0.25</td>\n",
       "      <td>0.23</td>\n",
       "      <td>0.65</td>\n",
       "      <td>0.35</td>\n",
       "      <td>247</td>\n",
       "      <td>1867</td>\n",
       "      <td>2114</td>\n",
       "    </tr>\n",
       "    <tr>\n",
       "      <th>727</th>\n",
       "      <td>728</td>\n",
       "      <td>2012-12-28</td>\n",
       "      <td>1</td>\n",
       "      <td>1</td>\n",
       "      <td>12</td>\n",
       "      <td>0</td>\n",
       "      <td>5</td>\n",
       "      <td>1</td>\n",
       "      <td>2</td>\n",
       "      <td>0.25</td>\n",
       "      <td>0.26</td>\n",
       "      <td>0.59</td>\n",
       "      <td>0.16</td>\n",
       "      <td>644</td>\n",
       "      <td>2451</td>\n",
       "      <td>3095</td>\n",
       "    </tr>\n",
       "    <tr>\n",
       "      <th>728</th>\n",
       "      <td>729</td>\n",
       "      <td>2012-12-29</td>\n",
       "      <td>1</td>\n",
       "      <td>1</td>\n",
       "      <td>12</td>\n",
       "      <td>0</td>\n",
       "      <td>6</td>\n",
       "      <td>0</td>\n",
       "      <td>2</td>\n",
       "      <td>0.25</td>\n",
       "      <td>0.24</td>\n",
       "      <td>0.75</td>\n",
       "      <td>0.12</td>\n",
       "      <td>159</td>\n",
       "      <td>1182</td>\n",
       "      <td>1341</td>\n",
       "    </tr>\n",
       "    <tr>\n",
       "      <th>729</th>\n",
       "      <td>730</td>\n",
       "      <td>2012-12-30</td>\n",
       "      <td>1</td>\n",
       "      <td>1</td>\n",
       "      <td>12</td>\n",
       "      <td>0</td>\n",
       "      <td>0</td>\n",
       "      <td>0</td>\n",
       "      <td>1</td>\n",
       "      <td>0.26</td>\n",
       "      <td>0.23</td>\n",
       "      <td>0.48</td>\n",
       "      <td>0.35</td>\n",
       "      <td>364</td>\n",
       "      <td>1432</td>\n",
       "      <td>1796</td>\n",
       "    </tr>\n",
       "    <tr>\n",
       "      <th>730</th>\n",
       "      <td>731</td>\n",
       "      <td>2012-12-31</td>\n",
       "      <td>1</td>\n",
       "      <td>1</td>\n",
       "      <td>12</td>\n",
       "      <td>0</td>\n",
       "      <td>1</td>\n",
       "      <td>1</td>\n",
       "      <td>2</td>\n",
       "      <td>0.22</td>\n",
       "      <td>0.22</td>\n",
       "      <td>0.58</td>\n",
       "      <td>0.15</td>\n",
       "      <td>439</td>\n",
       "      <td>2290</td>\n",
       "      <td>2729</td>\n",
       "    </tr>\n",
       "  </tbody>\n",
       "</table>\n",
       "<p>731 rows × 16 columns</p>\n",
       "</div>"
      ],
      "text/plain": [
       "     instant      dteday  season  yr  mnth  holiday  weekday  workingday  \\\n",
       "0          1  2011-01-01       1   0     1        0        6           0   \n",
       "1          2  2011-01-02       1   0     1        0        0           0   \n",
       "2          3  2011-01-03       1   0     1        0        1           1   \n",
       "3          4  2011-01-04       1   0     1        0        2           1   \n",
       "4          5  2011-01-05       1   0     1        0        3           1   \n",
       "5          6  2011-01-06       1   0     1        0        4           1   \n",
       "6          7  2011-01-07       1   0     1        0        5           1   \n",
       "7          8  2011-01-08       1   0     1        0        6           0   \n",
       "8          9  2011-01-09       1   0     1        0        0           0   \n",
       "9         10  2011-01-10       1   0     1        0        1           1   \n",
       "..       ...         ...     ...  ..   ...      ...      ...         ...   \n",
       "721      722  2012-12-22       1   1    12        0        6           0   \n",
       "722      723  2012-12-23       1   1    12        0        0           0   \n",
       "723      724  2012-12-24       1   1    12        0        1           1   \n",
       "724      725  2012-12-25       1   1    12        1        2           0   \n",
       "725      726  2012-12-26       1   1    12        0        3           1   \n",
       "726      727  2012-12-27       1   1    12        0        4           1   \n",
       "727      728  2012-12-28       1   1    12        0        5           1   \n",
       "728      729  2012-12-29       1   1    12        0        6           0   \n",
       "729      730  2012-12-30       1   1    12        0        0           0   \n",
       "730      731  2012-12-31       1   1    12        0        1           1   \n",
       "\n",
       "     weathersit  temp  atemp   hum  windspeed  casual  registered   cnt  \n",
       "0             2  0.34   0.36  0.81       0.16     331         654   985  \n",
       "1             2  0.36   0.35  0.70       0.25     131         670   801  \n",
       "2             1  0.20   0.19  0.44       0.25     120        1229  1349  \n",
       "3             1  0.20   0.21  0.59       0.16     108        1454  1562  \n",
       "4             1  0.23   0.23  0.44       0.19      82        1518  1600  \n",
       "5             1  0.20   0.23  0.52       0.09      88        1518  1606  \n",
       "6             2  0.20   0.21  0.50       0.17     148        1362  1510  \n",
       "7             2  0.17   0.16  0.54       0.27      68         891   959  \n",
       "8             1  0.14   0.12  0.43       0.36      54         768   822  \n",
       "9             1  0.15   0.15  0.48       0.22      41        1280  1321  \n",
       "..          ...   ...    ...   ...        ...     ...         ...   ...  \n",
       "721           1  0.27   0.24  0.44       0.41     205        1544  1749  \n",
       "722           1  0.25   0.26  0.52       0.13     408        1379  1787  \n",
       "723           2  0.23   0.26  0.79       0.08     174         746   920  \n",
       "724           2  0.29   0.29  0.73       0.17     440         573  1013  \n",
       "725           3  0.24   0.22  0.82       0.32       9         432   441  \n",
       "726           2  0.25   0.23  0.65       0.35     247        1867  2114  \n",
       "727           2  0.25   0.26  0.59       0.16     644        2451  3095  \n",
       "728           2  0.25   0.24  0.75       0.12     159        1182  1341  \n",
       "729           1  0.26   0.23  0.48       0.35     364        1432  1796  \n",
       "730           2  0.22   0.22  0.58       0.15     439        2290  2729  \n",
       "\n",
       "[731 rows x 16 columns]"
      ]
     },
     "execution_count": 7,
     "metadata": {},
     "output_type": "execute_result"
    }
   ],
   "source": [
    "bike = pd.read_csv(\"day.csv\", index_col = False)\n",
    "bike"
   ]
  },
  {
   "cell_type": "markdown",
   "metadata": {},
   "source": [
    "The hyperparameter we are using here are the different variables agaisnt count, thus plot temp against count, humidity against cout, and windspeed agaisnt count. It should be a linear regression"
   ]
  },
  {
   "cell_type": "code",
   "execution_count": 8,
   "metadata": {},
   "outputs": [
    {
     "data": {
      "text/plain": [
       "<matplotlib.collections.PathCollection at 0x21766d36320>"
      ]
     },
     "execution_count": 8,
     "metadata": {},
     "output_type": "execute_result"
    },
    {
     "data": {
      "image/png": "[encoded data removed]",
      "text/plain": [
       "<Figure size 432x288 with 1 Axes>"
      ]
     },
     "metadata": {},
     "output_type": "display_data"
    }
   ],
   "source": [
    "plt.scatter(bike['temp'], bike['cnt'])"
   ]
  },
  {
   "cell_type": "markdown",
   "metadata": {},
   "source": [
    "seperate the data in to train set and test set with a test size of 220"
   ]
  },
  {
   "cell_type": "code",
   "execution_count": 9,
   "metadata": {},
   "outputs": [
    {
     "name": "stdout",
     "output_type": "stream",
     "text": [
      "511\n",
      "220\n"
     ]
    }
   ],
   "source": [
    "from sklearn.model_selection import train_test_split\n",
    "\n",
    "test_size = 220\n",
    "\n",
    "t_train, t_test, h_train, h_test, w_train, w_test, cnt_train, cnt_test = train_test_split(bike[['temp']],bike[['hum']],bike[['windspeed']], bike['cnt'], test_size=test_size, random_state=0)\n",
    "print(len(t_train))\n",
    "print(len(t_test))"
   ]
  },
  {
   "cell_type": "markdown",
   "metadata": {},
   "source": [
    "functions of computing mse cost and the cross validation error.\n",
    "note we made changes to the cross validation function due to difference data type may occur in this project"
   ]
  },
  {
   "cell_type": "code",
   "execution_count": 10,
   "metadata": {},
   "outputs": [],
   "source": [
    "from sklearn.linear_model import LinearRegression\n",
    "from sklearn.model_selection import KFold\n",
    "\n",
    "def mse_cost(y_pred, y_actual):\n",
    "    return np.mean((y_pred - y_actual) ** 2)\n",
    "\n",
    "def compute_CV_error(model, X_train, Y_train):\n",
    "    kf = KFold(n_splits=5)\n",
    "    validation_errors = []\n",
    "    \n",
    "    for train_idx, valid_idx in kf.split(X_train):\n",
    "        # split the data\n",
    "        split_X_train, split_X_valid = X_train[train_idx], X_train[valid_idx]\n",
    "        if isinstance(Y_train, pd.Series):\n",
    "            split_Y_train, split_Y_valid = Y_train.iloc[train_idx], Y_train.iloc[valid_idx]\n",
    "        else:\n",
    "            split_Y_train, split_Y_valid = Y_train[train_idx], Y_train[valid_idx]\n",
    "\n",
    "\n",
    "        # Fit the model on the training split\n",
    "        model.fit(split_X_train, split_Y_train)\n",
    "        \n",
    "        # Compute the RMSE on the validation split\n",
    "        error = mse_cost(split_Y_valid, model.predict(split_X_valid))\n",
    "        \n",
    "        # Add this split's error to a list with all of the errors\n",
    "        validation_errors.append(error)\n",
    "    \n",
    "    #average all the validation errors\n",
    "    return np.mean(validation_errors)"
   ]
  },
  {
   "cell_type": "markdown",
   "metadata": {},
   "source": [
    "train a linear regression classifier for each featurized dataset and perform cross-validation on them with using for loop to run through each of the variable."
   ]
  },
  {
   "cell_type": "code",
   "execution_count": 11,
   "metadata": {},
   "outputs": [
    {
     "data": {
      "text/plain": [
       "[2167077.3886635723, 3346401.909556358, 3584425.242372493]"
      ]
     },
     "execution_count": 11,
     "metadata": {},
     "output_type": "execute_result"
    }
   ],
   "source": [
    "train_df = [t_train, w_train, h_train]\n",
    "train_ar = [i.values for i in train_df]\n",
    "\n",
    "cross_validation_errors = [compute_CV_error(LinearRegression(fit_intercept=True), i, cnt_train) for i in train_ar]\n",
    "cross_validation_errors\n",
    "# we found that temp has the strongest correlation with cnt"
   ]
  },
  {
   "cell_type": "markdown",
   "metadata": {},
   "source": [
    "find the best model and compute the training error, validation error and test error"
   ]
  },
  {
   "cell_type": "code",
   "execution_count": 12,
   "metadata": {},
   "outputs": [
    {
     "name": "stdout",
     "output_type": "stream",
     "text": [
      "[6451.77]\n",
      "1326.6364291419632\n",
      "Degree 1\n",
      "  Training error: 2149231.55919\n",
      "Validation error: 2167077.38866\n",
      "      Test error: 2562318.55283\n"
     ]
    }
   ],
   "source": [
    "best_model = LinearRegression(fit_intercept=True).fit(train_ar[0], cnt_train)\n",
    "print(best_model.coef_)\n",
    "print(best_model.intercept_)\n",
    "\n",
    "training_error = mse_cost(best_model.predict(train_ar[0]), cnt_train)\n",
    "validation_error = cross_validation_errors[0]\n",
    "validation_error\n",
    "test_error = mse_cost(best_model.predict(t_test.values), cnt_test)\n",
    "\n",
    "print('Degree 1')\n",
    "print(f'  Training error: {training_error:0.5f}')\n",
    "print(f'Validation error: {validation_error:0.5f}')\n",
    "print(f'      Test error: {test_error:0.5f}')"
   ]
  },
  {
   "cell_type": "markdown",
   "metadata": {},
   "source": [
    "Best model: LinearRegression between temperature(t) and cnt(c)\n",
    "cnt = 6451.77temp + 1326.6364291419632"
   ]
  },
  {
   "cell_type": "markdown",
   "metadata": {},
   "source": [
    "Plot the data with the model we found"
   ]
  },
  {
   "cell_type": "code",
   "execution_count": 13,
   "metadata": {},
   "outputs": [
    {
     "data": {
      "text/plain": [
       "[<matplotlib.lines.Line2D at 0x21766b169b0>]"
      ]
     },
     "execution_count": 13,
     "metadata": {},
     "output_type": "execute_result"
    },
    {
     "data": {
      "image/png": "[encoded data removed]",
      "text/plain": [
       "<Figure size 432x288 with 1 Axes>"
      ]
     },
     "metadata": {},
     "output_type": "display_data"
    }
   ],
   "source": [
    "import seaborn as sns\n",
    "plt.scatter(bike['temp'], bike['cnt'])\n",
    "#sns.regplot(bike['temp'],bike['cnt'], color = 'b')\n",
    "\n",
    "plt.plot(t_test.values, 6451.77*t_test.values + 1326.6364291419632, '-r')  "
   ]
  },
  {
   "cell_type": "markdown",
   "metadata": {},
   "source": [
    "DATA SET 2: Real Estate (imported form Irvine machine learning resource)"
   ]
  },
  {
   "cell_type": "markdown",
   "metadata": {},
   "source": [
    "read the data file"
   ]
  },
  {
   "cell_type": "code",
   "execution_count": 18,
   "metadata": {},
   "outputs": [
    {
     "data": {
      "text/html": [
       "<div>\n",
       "<style scoped>\n",
       "    .dataframe tbody tr th:only-of-type {\n",
       "        vertical-align: middle;\n",
       "    }\n",
       "\n",
       "    .dataframe tbody tr th {\n",
       "        vertical-align: top;\n",
       "    }\n",
       "\n",
       "    .dataframe thead th {\n",
       "        text-align: right;\n",
       "    }\n",
       "</style>\n",
       "<table border=\"1\" class=\"dataframe\">\n",
       "  <thead>\n",
       "    <tr style=\"text-align: right;\">\n",
       "      <th></th>\n",
       "      <th>No</th>\n",
       "      <th>X1</th>\n",
       "      <th>X2</th>\n",
       "      <th>X3</th>\n",
       "      <th>X4 number of convenience stores</th>\n",
       "      <th>X5 latitude</th>\n",
       "      <th>X6 longitude</th>\n",
       "      <th>Y house price of unit area</th>\n",
       "    </tr>\n",
       "  </thead>\n",
       "  <tbody>\n",
       "    <tr>\n",
       "      <th>0</th>\n",
       "      <td>1</td>\n",
       "      <td>2012.92</td>\n",
       "      <td>32.0</td>\n",
       "      <td>84.88</td>\n",
       "      <td>10</td>\n",
       "      <td>24.98</td>\n",
       "      <td>121.54</td>\n",
       "      <td>37.9</td>\n",
       "    </tr>\n",
       "    <tr>\n",
       "      <th>1</th>\n",
       "      <td>2</td>\n",
       "      <td>2012.92</td>\n",
       "      <td>19.5</td>\n",
       "      <td>306.59</td>\n",
       "      <td>9</td>\n",
       "      <td>24.98</td>\n",
       "      <td>121.54</td>\n",
       "      <td>42.2</td>\n",
       "    </tr>\n",
       "    <tr>\n",
       "      <th>2</th>\n",
       "      <td>3</td>\n",
       "      <td>2013.58</td>\n",
       "      <td>13.3</td>\n",
       "      <td>561.98</td>\n",
       "      <td>5</td>\n",
       "      <td>24.99</td>\n",
       "      <td>121.54</td>\n",
       "      <td>47.3</td>\n",
       "    </tr>\n",
       "    <tr>\n",
       "      <th>3</th>\n",
       "      <td>4</td>\n",
       "      <td>2013.50</td>\n",
       "      <td>13.3</td>\n",
       "      <td>561.98</td>\n",
       "      <td>5</td>\n",
       "      <td>24.99</td>\n",
       "      <td>121.54</td>\n",
       "      <td>54.8</td>\n",
       "    </tr>\n",
       "    <tr>\n",
       "      <th>4</th>\n",
       "      <td>5</td>\n",
       "      <td>2012.83</td>\n",
       "      <td>5.0</td>\n",
       "      <td>390.57</td>\n",
       "      <td>5</td>\n",
       "      <td>24.98</td>\n",
       "      <td>121.54</td>\n",
       "      <td>43.1</td>\n",
       "    </tr>\n",
       "    <tr>\n",
       "      <th>5</th>\n",
       "      <td>6</td>\n",
       "      <td>2012.67</td>\n",
       "      <td>7.1</td>\n",
       "      <td>2175.03</td>\n",
       "      <td>3</td>\n",
       "      <td>24.96</td>\n",
       "      <td>121.51</td>\n",
       "      <td>32.1</td>\n",
       "    </tr>\n",
       "    <tr>\n",
       "      <th>6</th>\n",
       "      <td>7</td>\n",
       "      <td>2012.67</td>\n",
       "      <td>34.5</td>\n",
       "      <td>623.47</td>\n",
       "      <td>7</td>\n",
       "      <td>24.98</td>\n",
       "      <td>121.54</td>\n",
       "      <td>40.3</td>\n",
       "    </tr>\n",
       "    <tr>\n",
       "      <th>7</th>\n",
       "      <td>8</td>\n",
       "      <td>2013.42</td>\n",
       "      <td>20.3</td>\n",
       "      <td>287.60</td>\n",
       "      <td>6</td>\n",
       "      <td>24.98</td>\n",
       "      <td>121.54</td>\n",
       "      <td>46.7</td>\n",
       "    </tr>\n",
       "    <tr>\n",
       "      <th>8</th>\n",
       "      <td>9</td>\n",
       "      <td>2013.50</td>\n",
       "      <td>31.7</td>\n",
       "      <td>5512.04</td>\n",
       "      <td>1</td>\n",
       "      <td>24.95</td>\n",
       "      <td>121.48</td>\n",
       "      <td>18.8</td>\n",
       "    </tr>\n",
       "    <tr>\n",
       "      <th>9</th>\n",
       "      <td>10</td>\n",
       "      <td>2013.42</td>\n",
       "      <td>17.9</td>\n",
       "      <td>1783.18</td>\n",
       "      <td>3</td>\n",
       "      <td>24.97</td>\n",
       "      <td>121.51</td>\n",
       "      <td>22.1</td>\n",
       "    </tr>\n",
       "    <tr>\n",
       "      <th>...</th>\n",
       "      <td>...</td>\n",
       "      <td>...</td>\n",
       "      <td>...</td>\n",
       "      <td>...</td>\n",
       "      <td>...</td>\n",
       "      <td>...</td>\n",
       "      <td>...</td>\n",
       "      <td>...</td>\n",
       "    </tr>\n",
       "    <tr>\n",
       "      <th>404</th>\n",
       "      <td>405</td>\n",
       "      <td>2013.33</td>\n",
       "      <td>16.4</td>\n",
       "      <td>289.32</td>\n",
       "      <td>5</td>\n",
       "      <td>24.98</td>\n",
       "      <td>121.54</td>\n",
       "      <td>41.2</td>\n",
       "    </tr>\n",
       "    <tr>\n",
       "      <th>405</th>\n",
       "      <td>406</td>\n",
       "      <td>2012.67</td>\n",
       "      <td>23.0</td>\n",
       "      <td>130.99</td>\n",
       "      <td>6</td>\n",
       "      <td>24.96</td>\n",
       "      <td>121.54</td>\n",
       "      <td>37.2</td>\n",
       "    </tr>\n",
       "    <tr>\n",
       "      <th>406</th>\n",
       "      <td>407</td>\n",
       "      <td>2013.17</td>\n",
       "      <td>1.9</td>\n",
       "      <td>372.14</td>\n",
       "      <td>7</td>\n",
       "      <td>24.97</td>\n",
       "      <td>121.54</td>\n",
       "      <td>40.5</td>\n",
       "    </tr>\n",
       "    <tr>\n",
       "      <th>407</th>\n",
       "      <td>408</td>\n",
       "      <td>2013.00</td>\n",
       "      <td>5.2</td>\n",
       "      <td>2408.99</td>\n",
       "      <td>0</td>\n",
       "      <td>24.96</td>\n",
       "      <td>121.56</td>\n",
       "      <td>22.3</td>\n",
       "    </tr>\n",
       "    <tr>\n",
       "      <th>408</th>\n",
       "      <td>409</td>\n",
       "      <td>2013.42</td>\n",
       "      <td>18.5</td>\n",
       "      <td>2175.74</td>\n",
       "      <td>3</td>\n",
       "      <td>24.96</td>\n",
       "      <td>121.51</td>\n",
       "      <td>28.1</td>\n",
       "    </tr>\n",
       "    <tr>\n",
       "      <th>409</th>\n",
       "      <td>410</td>\n",
       "      <td>2013.00</td>\n",
       "      <td>13.7</td>\n",
       "      <td>4082.01</td>\n",
       "      <td>0</td>\n",
       "      <td>24.94</td>\n",
       "      <td>121.50</td>\n",
       "      <td>15.4</td>\n",
       "    </tr>\n",
       "    <tr>\n",
       "      <th>410</th>\n",
       "      <td>411</td>\n",
       "      <td>2012.67</td>\n",
       "      <td>5.6</td>\n",
       "      <td>90.46</td>\n",
       "      <td>9</td>\n",
       "      <td>24.97</td>\n",
       "      <td>121.54</td>\n",
       "      <td>50.0</td>\n",
       "    </tr>\n",
       "    <tr>\n",
       "      <th>411</th>\n",
       "      <td>412</td>\n",
       "      <td>2013.25</td>\n",
       "      <td>18.8</td>\n",
       "      <td>390.97</td>\n",
       "      <td>7</td>\n",
       "      <td>24.98</td>\n",
       "      <td>121.54</td>\n",
       "      <td>40.6</td>\n",
       "    </tr>\n",
       "    <tr>\n",
       "      <th>412</th>\n",
       "      <td>413</td>\n",
       "      <td>2013.00</td>\n",
       "      <td>8.1</td>\n",
       "      <td>104.81</td>\n",
       "      <td>5</td>\n",
       "      <td>24.97</td>\n",
       "      <td>121.54</td>\n",
       "      <td>52.5</td>\n",
       "    </tr>\n",
       "    <tr>\n",
       "      <th>413</th>\n",
       "      <td>414</td>\n",
       "      <td>2013.50</td>\n",
       "      <td>6.5</td>\n",
       "      <td>90.46</td>\n",
       "      <td>9</td>\n",
       "      <td>24.97</td>\n",
       "      <td>121.54</td>\n",
       "      <td>63.9</td>\n",
       "    </tr>\n",
       "  </tbody>\n",
       "</table>\n",
       "<p>414 rows × 8 columns</p>\n",
       "</div>"
      ],
      "text/plain": [
       "      No       X1    X2       X3  X4 number of convenience stores  \\\n",
       "0      1  2012.92  32.0    84.88                               10   \n",
       "1      2  2012.92  19.5   306.59                                9   \n",
       "2      3  2013.58  13.3   561.98                                5   \n",
       "3      4  2013.50  13.3   561.98                                5   \n",
       "4      5  2012.83   5.0   390.57                                5   \n",
       "5      6  2012.67   7.1  2175.03                                3   \n",
       "6      7  2012.67  34.5   623.47                                7   \n",
       "7      8  2013.42  20.3   287.60                                6   \n",
       "8      9  2013.50  31.7  5512.04                                1   \n",
       "9     10  2013.42  17.9  1783.18                                3   \n",
       "..   ...      ...   ...      ...                              ...   \n",
       "404  405  2013.33  16.4   289.32                                5   \n",
       "405  406  2012.67  23.0   130.99                                6   \n",
       "406  407  2013.17   1.9   372.14                                7   \n",
       "407  408  2013.00   5.2  2408.99                                0   \n",
       "408  409  2013.42  18.5  2175.74                                3   \n",
       "409  410  2013.00  13.7  4082.01                                0   \n",
       "410  411  2012.67   5.6    90.46                                9   \n",
       "411  412  2013.25  18.8   390.97                                7   \n",
       "412  413  2013.00   8.1   104.81                                5   \n",
       "413  414  2013.50   6.5    90.46                                9   \n",
       "\n",
       "     X5 latitude  X6 longitude  Y house price of unit area  \n",
       "0          24.98        121.54                        37.9  \n",
       "1          24.98        121.54                        42.2  \n",
       "2          24.99        121.54                        47.3  \n",
       "3          24.99        121.54                        54.8  \n",
       "4          24.98        121.54                        43.1  \n",
       "5          24.96        121.51                        32.1  \n",
       "6          24.98        121.54                        40.3  \n",
       "7          24.98        121.54                        46.7  \n",
       "8          24.95        121.48                        18.8  \n",
       "9          24.97        121.51                        22.1  \n",
       "..           ...           ...                         ...  \n",
       "404        24.98        121.54                        41.2  \n",
       "405        24.96        121.54                        37.2  \n",
       "406        24.97        121.54                        40.5  \n",
       "407        24.96        121.56                        22.3  \n",
       "408        24.96        121.51                        28.1  \n",
       "409        24.94        121.50                        15.4  \n",
       "410        24.97        121.54                        50.0  \n",
       "411        24.98        121.54                        40.6  \n",
       "412        24.97        121.54                        52.5  \n",
       "413        24.97        121.54                        63.9  \n",
       "\n",
       "[414 rows x 8 columns]"
      ]
     },
     "execution_count": 18,
     "metadata": {},
     "output_type": "execute_result"
    }
   ],
   "source": [
    "estate = pd.read_csv(\"estate.csv\", index_col = False)\n",
    "estate"
   ]
  },
  {
   "cell_type": "markdown",
   "metadata": {},
   "source": [
    "The hyperparameter we are using here are the different variables agaisnt Y1, house price per unit area, thus plot X3 against house price per unit area"
   ]
  },
  {
   "cell_type": "code",
   "execution_count": 19,
   "metadata": {},
   "outputs": [
    {
     "data": {
      "text/plain": [
       "<matplotlib.collections.PathCollection at 0x21767116be0>"
      ]
     },
     "execution_count": 19,
     "metadata": {},
     "output_type": "execute_result"
    },
    {
     "data": {
      "image/png": "[encoded data removed]",
      "text/plain": [
       "<Figure size 432x288 with 1 Axes>"
      ]
     },
     "metadata": {},
     "output_type": "display_data"
    }
   ],
   "source": [
    "plt.scatter(estate['X3'], estate['Y house price of unit area'])"
   ]
  },
  {
   "cell_type": "markdown",
   "metadata": {},
   "source": [
    "Linearize X3 data"
   ]
  },
  {
   "cell_type": "code",
   "execution_count": 20,
   "metadata": {},
   "outputs": [
    {
     "data": {
      "text/html": [
       "<div>\n",
       "<style scoped>\n",
       "    .dataframe tbody tr th:only-of-type {\n",
       "        vertical-align: middle;\n",
       "    }\n",
       "\n",
       "    .dataframe tbody tr th {\n",
       "        vertical-align: top;\n",
       "    }\n",
       "\n",
       "    .dataframe thead th {\n",
       "        text-align: right;\n",
       "    }\n",
       "</style>\n",
       "<table border=\"1\" class=\"dataframe\">\n",
       "  <thead>\n",
       "    <tr style=\"text-align: right;\">\n",
       "      <th></th>\n",
       "      <th>No</th>\n",
       "      <th>X1</th>\n",
       "      <th>X2</th>\n",
       "      <th>X3</th>\n",
       "      <th>X4 number of convenience stores</th>\n",
       "      <th>X5 latitude</th>\n",
       "      <th>X6 longitude</th>\n",
       "      <th>Y house price of unit area</th>\n",
       "    </tr>\n",
       "  </thead>\n",
       "  <tbody>\n",
       "    <tr>\n",
       "      <th>0</th>\n",
       "      <td>1</td>\n",
       "      <td>2012.92</td>\n",
       "      <td>32.0</td>\n",
       "      <td>0.64</td>\n",
       "      <td>10</td>\n",
       "      <td>24.98</td>\n",
       "      <td>121.54</td>\n",
       "      <td>37.9</td>\n",
       "    </tr>\n",
       "    <tr>\n",
       "      <th>1</th>\n",
       "      <td>2</td>\n",
       "      <td>2012.92</td>\n",
       "      <td>19.5</td>\n",
       "      <td>0.56</td>\n",
       "      <td>9</td>\n",
       "      <td>24.98</td>\n",
       "      <td>121.54</td>\n",
       "      <td>42.2</td>\n",
       "    </tr>\n",
       "    <tr>\n",
       "      <th>2</th>\n",
       "      <td>3</td>\n",
       "      <td>2013.58</td>\n",
       "      <td>13.3</td>\n",
       "      <td>0.53</td>\n",
       "      <td>5</td>\n",
       "      <td>24.99</td>\n",
       "      <td>121.54</td>\n",
       "      <td>47.3</td>\n",
       "    </tr>\n",
       "    <tr>\n",
       "      <th>3</th>\n",
       "      <td>4</td>\n",
       "      <td>2013.50</td>\n",
       "      <td>13.3</td>\n",
       "      <td>0.53</td>\n",
       "      <td>5</td>\n",
       "      <td>24.99</td>\n",
       "      <td>121.54</td>\n",
       "      <td>54.8</td>\n",
       "    </tr>\n",
       "    <tr>\n",
       "      <th>4</th>\n",
       "      <td>5</td>\n",
       "      <td>2012.83</td>\n",
       "      <td>5.0</td>\n",
       "      <td>0.55</td>\n",
       "      <td>5</td>\n",
       "      <td>24.98</td>\n",
       "      <td>121.54</td>\n",
       "      <td>43.1</td>\n",
       "    </tr>\n",
       "    <tr>\n",
       "      <th>5</th>\n",
       "      <td>6</td>\n",
       "      <td>2012.67</td>\n",
       "      <td>7.1</td>\n",
       "      <td>0.46</td>\n",
       "      <td>3</td>\n",
       "      <td>24.96</td>\n",
       "      <td>121.51</td>\n",
       "      <td>32.1</td>\n",
       "    </tr>\n",
       "    <tr>\n",
       "      <th>6</th>\n",
       "      <td>7</td>\n",
       "      <td>2012.67</td>\n",
       "      <td>34.5</td>\n",
       "      <td>0.53</td>\n",
       "      <td>7</td>\n",
       "      <td>24.98</td>\n",
       "      <td>121.54</td>\n",
       "      <td>40.3</td>\n",
       "    </tr>\n",
       "    <tr>\n",
       "      <th>7</th>\n",
       "      <td>8</td>\n",
       "      <td>2013.42</td>\n",
       "      <td>20.3</td>\n",
       "      <td>0.57</td>\n",
       "      <td>6</td>\n",
       "      <td>24.98</td>\n",
       "      <td>121.54</td>\n",
       "      <td>46.7</td>\n",
       "    </tr>\n",
       "    <tr>\n",
       "      <th>8</th>\n",
       "      <td>9</td>\n",
       "      <td>2013.50</td>\n",
       "      <td>31.7</td>\n",
       "      <td>0.42</td>\n",
       "      <td>1</td>\n",
       "      <td>24.95</td>\n",
       "      <td>121.48</td>\n",
       "      <td>18.8</td>\n",
       "    </tr>\n",
       "    <tr>\n",
       "      <th>9</th>\n",
       "      <td>10</td>\n",
       "      <td>2013.42</td>\n",
       "      <td>17.9</td>\n",
       "      <td>0.47</td>\n",
       "      <td>3</td>\n",
       "      <td>24.97</td>\n",
       "      <td>121.51</td>\n",
       "      <td>22.1</td>\n",
       "    </tr>\n",
       "    <tr>\n",
       "      <th>...</th>\n",
       "      <td>...</td>\n",
       "      <td>...</td>\n",
       "      <td>...</td>\n",
       "      <td>...</td>\n",
       "      <td>...</td>\n",
       "      <td>...</td>\n",
       "      <td>...</td>\n",
       "      <td>...</td>\n",
       "    </tr>\n",
       "    <tr>\n",
       "      <th>404</th>\n",
       "      <td>405</td>\n",
       "      <td>2013.33</td>\n",
       "      <td>16.4</td>\n",
       "      <td>0.57</td>\n",
       "      <td>5</td>\n",
       "      <td>24.98</td>\n",
       "      <td>121.54</td>\n",
       "      <td>41.2</td>\n",
       "    </tr>\n",
       "    <tr>\n",
       "      <th>405</th>\n",
       "      <td>406</td>\n",
       "      <td>2012.67</td>\n",
       "      <td>23.0</td>\n",
       "      <td>0.61</td>\n",
       "      <td>6</td>\n",
       "      <td>24.96</td>\n",
       "      <td>121.54</td>\n",
       "      <td>37.2</td>\n",
       "    </tr>\n",
       "    <tr>\n",
       "      <th>406</th>\n",
       "      <td>407</td>\n",
       "      <td>2013.17</td>\n",
       "      <td>1.9</td>\n",
       "      <td>0.55</td>\n",
       "      <td>7</td>\n",
       "      <td>24.97</td>\n",
       "      <td>121.54</td>\n",
       "      <td>40.5</td>\n",
       "    </tr>\n",
       "    <tr>\n",
       "      <th>407</th>\n",
       "      <td>408</td>\n",
       "      <td>2013.00</td>\n",
       "      <td>5.2</td>\n",
       "      <td>0.46</td>\n",
       "      <td>0</td>\n",
       "      <td>24.96</td>\n",
       "      <td>121.56</td>\n",
       "      <td>22.3</td>\n",
       "    </tr>\n",
       "    <tr>\n",
       "      <th>408</th>\n",
       "      <td>409</td>\n",
       "      <td>2013.42</td>\n",
       "      <td>18.5</td>\n",
       "      <td>0.46</td>\n",
       "      <td>3</td>\n",
       "      <td>24.96</td>\n",
       "      <td>121.51</td>\n",
       "      <td>28.1</td>\n",
       "    </tr>\n",
       "    <tr>\n",
       "      <th>409</th>\n",
       "      <td>410</td>\n",
       "      <td>2013.00</td>\n",
       "      <td>13.7</td>\n",
       "      <td>0.44</td>\n",
       "      <td>0</td>\n",
       "      <td>24.94</td>\n",
       "      <td>121.50</td>\n",
       "      <td>15.4</td>\n",
       "    </tr>\n",
       "    <tr>\n",
       "      <th>410</th>\n",
       "      <td>411</td>\n",
       "      <td>2012.67</td>\n",
       "      <td>5.6</td>\n",
       "      <td>0.64</td>\n",
       "      <td>9</td>\n",
       "      <td>24.97</td>\n",
       "      <td>121.54</td>\n",
       "      <td>50.0</td>\n",
       "    </tr>\n",
       "    <tr>\n",
       "      <th>411</th>\n",
       "      <td>412</td>\n",
       "      <td>2013.25</td>\n",
       "      <td>18.8</td>\n",
       "      <td>0.55</td>\n",
       "      <td>7</td>\n",
       "      <td>24.98</td>\n",
       "      <td>121.54</td>\n",
       "      <td>40.6</td>\n",
       "    </tr>\n",
       "    <tr>\n",
       "      <th>412</th>\n",
       "      <td>413</td>\n",
       "      <td>2013.00</td>\n",
       "      <td>8.1</td>\n",
       "      <td>0.63</td>\n",
       "      <td>5</td>\n",
       "      <td>24.97</td>\n",
       "      <td>121.54</td>\n",
       "      <td>52.5</td>\n",
       "    </tr>\n",
       "    <tr>\n",
       "      <th>413</th>\n",
       "      <td>414</td>\n",
       "      <td>2013.50</td>\n",
       "      <td>6.5</td>\n",
       "      <td>0.64</td>\n",
       "      <td>9</td>\n",
       "      <td>24.97</td>\n",
       "      <td>121.54</td>\n",
       "      <td>63.9</td>\n",
       "    </tr>\n",
       "  </tbody>\n",
       "</table>\n",
       "<p>414 rows × 8 columns</p>\n",
       "</div>"
      ],
      "text/plain": [
       "      No       X1    X2    X3  X4 number of convenience stores  X5 latitude  \\\n",
       "0      1  2012.92  32.0  0.64                               10        24.98   \n",
       "1      2  2012.92  19.5  0.56                                9        24.98   \n",
       "2      3  2013.58  13.3  0.53                                5        24.99   \n",
       "3      4  2013.50  13.3  0.53                                5        24.99   \n",
       "4      5  2012.83   5.0  0.55                                5        24.98   \n",
       "5      6  2012.67   7.1  0.46                                3        24.96   \n",
       "6      7  2012.67  34.5  0.53                                7        24.98   \n",
       "7      8  2013.42  20.3  0.57                                6        24.98   \n",
       "8      9  2013.50  31.7  0.42                                1        24.95   \n",
       "9     10  2013.42  17.9  0.47                                3        24.97   \n",
       "..   ...      ...   ...   ...                              ...          ...   \n",
       "404  405  2013.33  16.4  0.57                                5        24.98   \n",
       "405  406  2012.67  23.0  0.61                                6        24.96   \n",
       "406  407  2013.17   1.9  0.55                                7        24.97   \n",
       "407  408  2013.00   5.2  0.46                                0        24.96   \n",
       "408  409  2013.42  18.5  0.46                                3        24.96   \n",
       "409  410  2013.00  13.7  0.44                                0        24.94   \n",
       "410  411  2012.67   5.6  0.64                                9        24.97   \n",
       "411  412  2013.25  18.8  0.55                                7        24.98   \n",
       "412  413  2013.00   8.1  0.63                                5        24.97   \n",
       "413  414  2013.50   6.5  0.64                                9        24.97   \n",
       "\n",
       "     X6 longitude  Y house price of unit area  \n",
       "0          121.54                        37.9  \n",
       "1          121.54                        42.2  \n",
       "2          121.54                        47.3  \n",
       "3          121.54                        54.8  \n",
       "4          121.54                        43.1  \n",
       "5          121.51                        32.1  \n",
       "6          121.54                        40.3  \n",
       "7          121.54                        46.7  \n",
       "8          121.48                        18.8  \n",
       "9          121.51                        22.1  \n",
       "..            ...                         ...  \n",
       "404        121.54                        41.2  \n",
       "405        121.54                        37.2  \n",
       "406        121.54                        40.5  \n",
       "407        121.56                        22.3  \n",
       "408        121.51                        28.1  \n",
       "409        121.50                        15.4  \n",
       "410        121.54                        50.0  \n",
       "411        121.54                        40.6  \n",
       "412        121.54                        52.5  \n",
       "413        121.54                        63.9  \n",
       "\n",
       "[414 rows x 8 columns]"
      ]
     },
     "execution_count": 20,
     "metadata": {},
     "output_type": "execute_result"
    }
   ],
   "source": [
    "estate['X3'] = estate['X3'] ** (-0.1)\n",
    "estate"
   ]
  },
  {
   "cell_type": "markdown",
   "metadata": {},
   "source": [
    "plot modified X3 against house price per unit area"
   ]
  },
  {
   "cell_type": "code",
   "execution_count": 21,
   "metadata": {},
   "outputs": [
    {
     "data": {
      "text/plain": [
       "<matplotlib.collections.PathCollection at 0x217671402b0>"
      ]
     },
     "execution_count": 21,
     "metadata": {},
     "output_type": "execute_result"
    },
    {
     "data": {
      "image/png": "[encoded data removed]",
      "text/plain": [
       "<Figure size 432x288 with 1 Axes>"
      ]
     },
     "metadata": {},
     "output_type": "display_data"
    }
   ],
   "source": [
    "plt.scatter(estate['X3'], estate['Y house price of unit area'])"
   ]
  },
  {
   "cell_type": "markdown",
   "metadata": {},
   "source": [
    "plot modified X5 against house price per unit area"
   ]
  },
  {
   "cell_type": "code",
   "execution_count": 22,
   "metadata": {},
   "outputs": [
    {
     "data": {
      "text/plain": [
       "<matplotlib.collections.PathCollection at 0x21766b73978>"
      ]
     },
     "execution_count": 22,
     "metadata": {},
     "output_type": "execute_result"
    },
    {
     "data": {
      "image/png": "[encoded data removed]",
      "text/plain": [
       "<Figure size 432x288 with 1 Axes>"
      ]
     },
     "metadata": {},
     "output_type": "display_data"
    }
   ],
   "source": [
    "plt.scatter(estate['X5 latitude'], estate['Y house price of unit area'])"
   ]
  },
  {
   "cell_type": "markdown",
   "metadata": {},
   "source": [
    "plot modified X2 against house price per unit area"
   ]
  },
  {
   "cell_type": "code",
   "execution_count": 23,
   "metadata": {},
   "outputs": [
    {
     "data": {
      "text/plain": [
       "<matplotlib.collections.PathCollection at 0x217672565c0>"
      ]
     },
     "execution_count": 23,
     "metadata": {},
     "output_type": "execute_result"
    },
    {
     "data": {
      "image/png": "[encoded data removed]",
      "text/plain": [
       "<Figure size 432x288 with 1 Axes>"
      ]
     },
     "metadata": {},
     "output_type": "display_data"
    }
   ],
   "source": [
    "plt.scatter(estate['X2'], estate['Y house price of unit area'])"
   ]
  },
  {
   "cell_type": "markdown",
   "metadata": {},
   "source": [
    "seperate the data in to train set and test set with a test size of 124"
   ]
  },
  {
   "cell_type": "code",
   "execution_count": 24,
   "metadata": {},
   "outputs": [
    {
     "name": "stdout",
     "output_type": "stream",
     "text": [
      "290\n",
      "124\n"
     ]
    }
   ],
   "source": [
    "from sklearn.model_selection import train_test_split\n",
    "\n",
    "test_size_2 = 124\n",
    "X2_train, X2_test, X3_train, X3_test, X5_train, X5_test, p_train, p_test = train_test_split(estate[['X2']], estate[['X3']],estate[['X5 latitude']], estate['Y house price of unit area'], test_size=test_size_2, random_state=0)\n",
    "print(len(X2_train))\n",
    "print(len(X2_test))"
   ]
  },
  {
   "cell_type": "markdown",
   "metadata": {},
   "source": [
    "train a linear regression classifier for each featurized dataset and perform cross-validation on them with using for loop to run through each of the variable."
   ]
  },
  {
   "cell_type": "code",
   "execution_count": 25,
   "metadata": {},
   "outputs": [
    {
     "data": {
      "text/plain": [
       "[181.35635632636323, 95.33689571170734, 136.17291364489296]"
      ]
     },
     "execution_count": 25,
     "metadata": {},
     "output_type": "execute_result"
    }
   ],
   "source": [
    "train_df_2 = [X2_train, X3_train, X5_train]\n",
    "train_ar_2= [i.values for i in train_df_2]\n",
    "cross_validation_errors_2 = [compute_CV_error(LinearRegression(fit_intercept=True), i, p_train) for i in train_ar_2]\n",
    "cross_validation_errors_2\n",
    "# we found that X3 has the strongest correlation with price"
   ]
  },
  {
   "cell_type": "markdown",
   "metadata": {},
   "source": [
    "find the best model and compute the training error, validation error and test error"
   ]
  },
  {
   "cell_type": "code",
   "execution_count": 26,
   "metadata": {},
   "outputs": [
    {
     "name": "stdout",
     "output_type": "stream",
     "text": [
      "[158.6]\n",
      "-45.94033631188673\n",
      "Degree 1\n",
      "  Training error: 94.20832\n",
      "Validation error: 95.33690\n",
      "      Test error: 73.92946\n"
     ]
    }
   ],
   "source": [
    "best_model_2 = LinearRegression(fit_intercept=True).fit(train_ar_2[1], p_train)\n",
    "print(best_model_2.coef_)\n",
    "print(best_model_2.intercept_)\n",
    "\n",
    "training_error_2 = mse_cost(best_model_2.predict(train_ar_2[1]), p_train)\n",
    "validation_error_2 = cross_validation_errors_2[1]\n",
    "validation_error_2\n",
    "test_error_2 = mse_cost(best_model_2.predict(X3_test.values), p_test)\n",
    "\n",
    "print('Degree 1')\n",
    "print(f'  Training error: {training_error_2:0.5f}')\n",
    "print(f'Validation error: {validation_error_2:0.5f}')\n",
    "print(f'      Test error: {test_error_2:0.5f}')"
   ]
  },
  {
   "cell_type": "markdown",
   "metadata": {},
   "source": [
    "Best model: LinearRegression between X3 and Y  \n",
    "Y = 158.6 X3 - 45.94033631188673  \n",
    "Plot the data with the model we found"
   ]
  },
  {
   "cell_type": "code",
   "execution_count": 27,
   "metadata": {},
   "outputs": [
    {
     "data": {
      "text/plain": [
       "(0.4, 0.65)"
      ]
     },
     "execution_count": 27,
     "metadata": {},
     "output_type": "execute_result"
    },
    {
     "data": {
      "image/png": "[encoded data removed]",
      "text/plain": [
       "<Figure size 432x288 with 1 Axes>"
      ]
     },
     "metadata": {},
     "output_type": "display_data"
    }
   ],
   "source": [
    "import seaborn as sns\n",
    "plt.scatter(estate['X3'], estate['Y house price of unit area'])\n",
    "plt.plot(X3_test.values, 158.6*X3_test.values + -45.94033631188673, '-r') \n",
    "plt.xlim(0.4,0.65)"
   ]
  },
  {
   "cell_type": "markdown",
   "metadata": {},
   "source": [
    "DATA SET 3 DIABETES (An sklearn data set)"
   ]
  },
  {
   "cell_type": "markdown",
   "metadata": {},
   "source": [
    "import dataset from sklearn"
   ]
  },
  {
   "cell_type": "code",
   "execution_count": 31,
   "metadata": {},
   "outputs": [
    {
     "data": {
      "text/plain": [
       "{'data': array([[ 0.04,  0.05,  0.06, ..., -0.  ,  0.02, -0.02],\n",
       "        [-0.  , -0.04, -0.05, ..., -0.04, -0.07, -0.09],\n",
       "        [ 0.09,  0.05,  0.04, ..., -0.  ,  0.  , -0.03],\n",
       "        ...,\n",
       "        [ 0.04,  0.05, -0.02, ..., -0.01, -0.05,  0.02],\n",
       "        [-0.05, -0.04,  0.04, ...,  0.03,  0.04, -0.03],\n",
       "        [-0.05, -0.04, -0.07, ..., -0.04, -0.  ,  0.  ]]),\n",
       " 'target': array([151.,  75., 141., ..., 132., 220.,  57.]),\n",
       " 'DESCR': 'Diabetes dataset\\n================\\n\\nNotes\\n-----\\n\\nTen baseline variables, age, sex, body mass index, average blood\\npressure, and six blood serum measurements were obtained for each of n =\\n442 diabetes patients, as well as the response of interest, a\\nquantitative measure of disease progression one year after baseline.\\n\\nData Set Characteristics:\\n\\n  :Number of Instances: 442\\n\\n  :Number of Attributes: First 10 columns are numeric predictive values\\n\\n  :Target: Column 11 is a quantitative measure of disease progression one year after baseline\\n\\n  :Attributes:\\n    :Age:\\n    :Sex:\\n    :Body mass index:\\n    :Average blood pressure:\\n    :S1:\\n    :S2:\\n    :S3:\\n    :S4:\\n    :S5:\\n    :S6:\\n\\nNote: Each of these 10 feature variables have been mean centered and scaled by the standard deviation times `n_samples` (i.e. the sum of squares of each column totals 1).\\n\\nSource URL:\\nhttp://www4.stat.ncsu.edu/~boos/var.select/diabetes.html\\n\\nFor more information see:\\nBradley Efron, Trevor Hastie, Iain Johnstone and Robert Tibshirani (2004) \"Least Angle Regression,\" Annals of Statistics (with discussion), 407-499.\\n(http://web.stanford.edu/~hastie/Papers/LARS/LeastAngle_2002.pdf)\\n',\n",
       " 'feature_names': ['age',\n",
       "  'sex',\n",
       "  'bmi',\n",
       "  'bp',\n",
       "  's1',\n",
       "  's2',\n",
       "  's3',\n",
       "  's4',\n",
       "  's5',\n",
       "  's6']}"
      ]
     },
     "execution_count": 31,
     "metadata": {},
     "output_type": "execute_result"
    }
   ],
   "source": [
    "from sklearn import datasets\n",
    "\n",
    "diabetes = datasets.load_diabetes()\n",
    "diabetes"
   ]
  },
  {
   "cell_type": "markdown",
   "metadata": {},
   "source": [
    "seperate the data in to train set and test set with a test size of 130"
   ]
  },
  {
   "cell_type": "code",
   "execution_count": 32,
   "metadata": {},
   "outputs": [],
   "source": [
    "test_size_d = 130\n",
    "\n",
    "prog = diabetes.target #progression of illness\n",
    "bmi = diabetes.data[:, np.newaxis, 2] #body mass index\n",
    "abp = diabetes.data[:, np.newaxis, 3] #average blood pressure\n",
    "\n",
    "prog_train, prog_test = train_test_split(prog, test_size=test_size_d, random_state=0)\n",
    "bmi_train, bmi_test = train_test_split(bmi, test_size=test_size_d, random_state=0)\n",
    "abp_train, abp_test = train_test_split(abp, test_size=test_size_d, random_state=0)\n"
   ]
  },
  {
   "cell_type": "markdown",
   "metadata": {},
   "source": [
    "train a linear regression classifier for each featurized dataset and perform cross-validation on them with using for loop to run through each of the variable."
   ]
  },
  {
   "cell_type": "code",
   "execution_count": 33,
   "metadata": {},
   "outputs": [
    {
     "data": {
      "text/plain": [
       "[3940.234705026681, 4966.533433088722]"
      ]
     },
     "execution_count": 33,
     "metadata": {},
     "output_type": "execute_result"
    }
   ],
   "source": [
    "train = [bmi_train, abp_train]\n",
    "cross_validation_errors_d = [compute_CV_error(LinearRegression(fit_intercept=True), i, prog_train) for i in train]\n",
    "cross_validation_errors_d\n",
    "# we found that bmi has the strongest correlation with progression of illness"
   ]
  },
  {
   "cell_type": "markdown",
   "metadata": {},
   "source": [
    "find the best model and compute the training error, validation error and test error"
   ]
  },
  {
   "cell_type": "code",
   "execution_count": 34,
   "metadata": {},
   "outputs": [
    {
     "name": "stdout",
     "output_type": "stream",
     "text": [
      "[1014.06]\n",
      "153.72281239239942\n",
      "Degree 1\n",
      "  Training error: 3865.40899\n",
      "Validation error: 3940.23471\n",
      "      Test error: 3991.28534\n"
     ]
    }
   ],
   "source": [
    "best_model_d = LinearRegression(fit_intercept=True).fit(train[0], prog_train)\n",
    "print(best_model_d.coef_)\n",
    "print(best_model_d.intercept_)\n",
    "\n",
    "training_error_d = mse_cost(best_model_d.predict(train[0]), prog_train)\n",
    "validation_error_d = cross_validation_errors_d[0]\n",
    "test_error_d = mse_cost(best_model_d.predict(bmi_test), prog_test)\n",
    "\n",
    "print('Degree 1')\n",
    "print(f'  Training error: {training_error_d:0.5f}')\n",
    "print(f'Validation error: {validation_error_d:0.5f}')\n",
    "print(f'      Test error: {test_error_d:0.5f}')"
   ]
  },
  {
   "cell_type": "markdown",
   "metadata": {},
   "source": [
    "Best model: LinearRegression between bmi and prog  \n",
    "Y = 1014.06 X3 +153.72281239239942  \n",
    "Plot the data with the model we found"
   ]
  },
  {
   "cell_type": "code",
   "execution_count": 36,
   "metadata": {},
   "outputs": [
    {
     "data": {
      "text/plain": [
       "[<matplotlib.lines.Line2D at 0x2176739aa90>]"
      ]
     },
     "execution_count": 36,
     "metadata": {},
     "output_type": "execute_result"
    },
    {
     "data": {
      "image/png": "[encoded data removed]",
      "text/plain": [
       "<Figure size 432x288 with 1 Axes>"
      ]
     },
     "metadata": {},
     "output_type": "display_data"
    }
   ],
   "source": [
    "import seaborn as sns\n",
    "plt.scatter(bmi, prog)\n",
    "\n",
    "plt.plot(bmi_test, best_model_d.coef_*bmi_test + best_model_d.intercept_, '-r')"
   ]
  }
 ],
 "metadata": {
  "kernelspec": {
   "display_name": "Python 3",
   "language": "python",
   "name": "python3"
  },
  "language_info": {
   "codemirror_mode": {
    "name": "ipython",
    "version": 3
   },
   "file_extension": ".py",
   "mimetype": "text/x-python",
   "name": "python",
   "nbconvert_exporter": "python",
   "pygments_lexer": "ipython3",
   "version": "3.6.5"
  }
 },
 "nbformat": 4,
 "nbformat_minor": 2
}
